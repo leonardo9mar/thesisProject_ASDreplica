{
 "cells": [
  {
   "cell_type": "markdown",
   "id": "ace698d1-88e7-4093-81dc-892932e5e208",
   "metadata": {},
   "source": [
    "# Brain Network Model\n",
    "## Realistic structural connectivity + Jansen-Rit neural mass model"
   ]
  },
  {
   "cell_type": "code",
   "execution_count": 1,
   "id": "78a4d3f0-e9ba-4024-862f-a73e3d93d21f",
   "metadata": {},
   "outputs": [],
   "source": [
    "#import libs\n",
    "\n",
    "import matplotlib\n",
    "import numpy as np\n",
    "import numpy\n",
    "from tvb.simulator.lab import *\n",
    "import multiprocessing as mp \n",
    "from tvb.datatypes.region_mapping import RegionMapping\n",
    "from tvb.datatypes.projections import ProjectionMatrix, ProjectionSurfaceEEG\n",
    "from tvb.datatypes.sensors import SensorsEEG\n",
    "from tvb.datatypes import connectivity\n",
    "from tvb.datatypes.cortex import Cortex\n",
    "from tvb.datatypes import surfaces, local_connectivity, equations\n",
    "from scipy import io as sio\n",
    "from tvb.simulator.simulator import Simulator"
   ]
  },
  {
   "cell_type": "code",
   "execution_count": null,
   "id": "c80b8c5e-ffe0-4a72-88d7-f7aac46e7da8",
   "metadata": {},
   "outputs": [],
   "source": [
    "#initialize parameters varied in the grid search optimization, values are set now to oprimal value after optimization process\n",
    "#structural parameters\n",
    "\n",
    "global_coupling_strength = numpy.array([1.0]) #scale factor for global couplling interactions: grid search [0.01,0.1,1.0,10.0]\n",
    "local_coupling_strength = numpy.array([0.5])  #scale factor for local couplling interactions: grid search [0.0001,0.001,0.01,0.1]\n",
    "local_coupling_sigma = numpy.array([0.1])   #spatial spread (gaussian) for local couplling interactions: grid search[0.5,1.0,5.0]\n",
    "conduction_velocity = numpy.array([25.0])  #scale factor for conduction velocity matrix: grid search [10.0,25.0,50.0,100.0]\n",
    "#dynamical (jansen rit / noise) paramters\n",
    "jrm.a = numpy.array([0.1])   #jansen rit excitatory time(inverse): grid search [0.01,0.1,1.0,10.0]\n",
    "jrm.b = numpy.array([0.02])   #jansen rit inhibitory time (inverse): grid search [0.01,0.1,1.0,10.0]\n",
    "jrm.mu = numpy.array([0.22])  #jansen rit mean firing rate background activity: grid search [0.12,0.22]\n",
    "noise = numpy.array([10.0])  #scale factor for addictive noise in sde integration : grid search [1.0,10.0,100.0]"
   ]
  },
  {
   "cell_type": "code",
   "execution_count": null,
   "id": "e4a65184-6fae-409b-a43e-f450474b1305",
   "metadata": {},
   "outputs": [],
   "source": [
    "#initialize structural global connectivity for both default and personalized connectome\n",
    "#default connectivity. this can be use as a comparison or null model\n",
    "\n",
    "con = connectivity.Connectivity.from_file('connectivity_76.zip') \n",
    "con.speed = np.array([10.0]) #constant velocity assumption\n",
    "con.configure()"
   ]
  },
  {
   "cell_type": "code",
   "execution_count": null,
   "id": "913b67dc-e005-4346-980d-355059a87832",
   "metadata": {},
   "outputs": [],
   "source": [
    "#initialize personalized realistic connectivity from mri data\n",
    "\n",
    "conn = connectivity.Connectivity.from_file(path_to_input_data+'sub-01_Connectome.zip')   #connectivity weigths HCPMMP1 atlas\n",
    "conn.speed = numpy.loadtxt(path_to_input_data+'sub-01_conduction_velocities.txt', dtype=float) # heterogeneous conduction velocities\n",
    "conn.speed[conn.speed==0]=0.0000000001 # avoid null problems\n",
    "nr_streamlines = numpy.array([71631000]) # this is the nr of streamlines provided as input during Tractography\n",
    "conn.weights = conn.weights/nr_streamlines\n",
    "conn.configure()"
   ]
  },
  {
   "cell_type": "code",
   "execution_count": null,
   "id": "1c3b758a-0afa-4f30-adbc-56dcab1d852c",
   "metadata": {},
   "outputs": [],
   "source": [
    "#initialize the Jansen-Rit neural mass model\n",
    "\n",
    "jrm = models.JansenRit(a=jrm.a, b=jrm.b, v0=numpy.array([6.0]), nu_max=numpy.array([0.0025]), r=numpy.array([0.56]), J=numpy.array([135.0]), a_1=numpy.array([1.0]), a_2=numpy.array([0.8]), a_3=numpy.array([0.25]), a_4=numpy.array([0.25]), p_min=numpy.array([0.12]), p_max=numpy.array([0.32]), mu=jrm.mu,\n",
    "                       variables_of_interest=(\"y1\", \"y2\")\n",
    "                      )"
   ]
  },
  {
   "cell_type": "code",
   "execution_count": null,
   "id": "8f3c4101-92c2-42ae-9fb6-c7f18b35b925",
   "metadata": {},
   "outputs": [],
   "source": [
    "#initialize the global coupling function (sigmoidal)\n",
    "\n",
    "global_coupling_strength = numpy.array([1.0])   #this parameter must be set through the optimization process, running a grid search\n",
    "global_coupling = coupling.SigmoidalJansenRit(cmin=numpy.array([0.0]), cmax=numpy.array([0.005]), midpoint=numpy.array([6.0]), r=numpy.array([0.56]), a=global_coupling_strength, dtype=float))\n",
    "global_coupling.configure()"
   ]
  },
  {
   "cell_type": "code",
   "execution_count": null,
   "id": "c9efa3f0-b636-4e32-aca2-658e3c5ff969",
   "metadata": {},
   "outputs": [],
   "source": [
    "#initialize the external background stimulation \n",
    "\n",
    "jrm.stvar = np.array([4])   # this applies the stimulation as additive term of the right part of the fourh equation of JansenRit (1995)\n",
    "jrm.configure()\n",
    "phi_n_scaling = phi_n_scaling_coeff * (jrm.a * jrm.A * (jrm.p_max-jrm.p_min) * 0.5 )**2 / 2.0\n",
    "sigma         = numpy.zeros(6) \n",
    "sigma[4]      = phi_n_scaling # noise dispersion as drawn from a Gaussian distribution"
   ]
  },
  {
   "cell_type": "code",
   "execution_count": null,
   "id": "df29c95f-b311-47d3-b35a-66a314c8a1f5",
   "metadata": {},
   "outputs": [],
   "source": [
    "#initialize the scalp locations and the leadfieldamtrix for projection of cortical activity toward EEG electrodes\n",
    "\n",
    "rm_f_name = (path_to_input_data+'sub-01_region_mapping.txt')\n",
    "rm = RegionMapping.from_file(rm_f_name)\n",
    "rm.connectivity=conn\n",
    "sensorsEEG = SensorsEEG.from_file(path_to_input_data+'sub-01_EEG_Locations.txt')\n",
    "sensorsEEG.configure()\n",
    "prEEG = ProjectionSurfaceEEG.from_file(path_to_input_data+'sub-01_EEGProjection.mat', matlab_data_name=\"ProjectionMatrix\")\n",
    "prEEG.sensors=sensorsEEG"
   ]
  },
  {
   "cell_type": "code",
   "execution_count": null,
   "id": "5aa3c40d-4cac-4a97-a4cb-b803efe56250",
   "metadata": {},
   "outputs": [],
   "source": [
    "#initialize the Heun stochastic integrator\n",
    "\n",
    "my_seed = 42  # this is the default value in TVB\n",
    "my_random_state = numpy.random.RandomState(int(my_seed))\n",
    "fsamp = 1e3/256.0       # monitro sampling (256hz)\n",
    "h=fsamp/8    # integration step aligned with eeg sampling frequency and to avoid numerical instability\n",
    "my_noise=noise.Additive(nsig=sigma, ntau=0.0, noise_seed=my_seed, random_stream=my_random_state)\n",
    "my_noise.configure()\n",
    "heunint = integrators.HeunStochastic(\n",
    "    dt=h, \n",
    "    noise=my_noise\n",
    ")\n",
    "heunint.configure()"
   ]
  },
  {
   "cell_type": "code",
   "execution_count": null,
   "id": "3a9ebcca-294d-47b3-9e83-7446dca7a5c4",
   "metadata": {},
   "outputs": [],
   "source": [
    "#initialize local coupling surface\n",
    "\n",
    "ctx_surface_name=(path_to_input_data+'sub-01_Cortex.zip')\n",
    "ctx_surface = surfaces.CorticalSurface.from_file(ctx_surface_name)\n",
    "ctx_surface.zero_based_triangles=True\n",
    "ctx_surface.configure()\n",
    "prEEG.sources=ctx_surface\n",
    "prEEG.configure()\n",
    "rm.surface=ctx_surface\n",
    "rm.configure()\n",
    "loc_conn_matrix = sio.loadmat(path_to_input_data+local_connectivity_matrix_name)['local_connectivity_matrix']\n",
    "loc_conn = local_connectivity.LocalConnectivity(surface=ctx_surface,\n",
    "                                                matrix=loc_conn_matrix, equation=equations.Gaussian(), cutoff=local_connectivity_metadata['cutoff'])\n",
    "loc_conn.equation.parameters['midpoint'] = 0.0\n",
    "loc_conn.equation.parameters['offset'] = 0.0\n",
    "loc_conn.equation.parameters['sigma'] = local_coupling_sigma \n",
    "loc_conn.configure()\n",
    "ctx = Cortex.from_file(source_file=ctx_surface_name, region_mapping_file=rm_f_name, local_connectivity_file=None) \n",
    "ctx.surface.configure()\n",
    "ctx.region_mapping_data.connectivity = conn\n",
    "ctx.region_mapping_data.connectivity.configure()\n",
    "ctx.region_mapping_data.configure()\n",
    "ctx.local_connectivity = loc_conn\n",
    "ctx.coupling_strength = local_coupling_strength\n",
    "ctx.local_connectivity.configure()\n",
    "ctx.configure()\n",
    "init = my_random_state.rand(4000, int(jrm._nvar), int(ctx_surface.vertices.shape[0]+conn.cortical.shape[0]-numpy.count_nonzero(conn.cortical)), 1); \n",
    "set_surface_simulation=ctx"
   ]
  },
  {
   "cell_type": "code",
   "execution_count": null,
   "id": "1ebc936d-690b-4df6-9a2e-5c0007eafc10",
   "metadata": {},
   "outputs": [],
   "source": [
    "#initialize EEG monitor. Extending to other monitors such as BOLD is possible within the same framework considering an appropriate hemodynamics function\n",
    "\n",
    "mons = (\n",
    "    monitors.EEG(sensors=sensorsEEG, projection=prEEG, region_mapping=rm, period=fsamp, reference=None, variables_of_interest=numpy.array([0,1])),\n",
    "    monitors.Raw(),\n",
    "    monitors.ProgressLogger(period=1.0),\n",
    ")\n",
    "mons[0].configure()\n",
    "mons[1].configure()\n",
    "mons[2].configure()"
   ]
  },
  {
   "cell_type": "code",
   "execution_count": null,
   "id": "2a955a5b-0a9f-4997-a749-52b7204a3f09",
   "metadata": {},
   "outputs": [],
   "source": [
    "#initialize the simulator\n",
    "\n",
    "sim_length=22000.0 #[ms]\n",
    "sim = Simulator(\n",
    "    model=jrm,\n",
    "    connectivity=conn,\n",
    "    coupling=global_coupling,\n",
    "    conduction_speed=conn_speed,\n",
    "    integrator=heunint,\n",
    "    monitors=mons,\n",
    "    surface=set_surface_simulation,\n",
    "    simulation_length=sim_length,\n",
    "    initial_conditions=init\n",
    ") \n",
    "sim.configure()"
   ]
  },
  {
   "cell_type": "code",
   "execution_count": null,
   "id": "cbe65b6f-3472-49a0-8d55-0c06b62fab1b",
   "metadata": {},
   "outputs": [],
   "source": [
    "#run the simulator\n",
    "\n",
    "results = sim.run(simulation_length=sim_length,\n",
    "                  random_state=my_random_state.get_state()\n",
    "                  )\n",
    "\n",
    "time_eeg = results[0][0]\n",
    "eeg = results[0][1].squeeze() - results[1][1].squeeze()"
   ]
  }
 ],
 "metadata": {
  "kernelspec": {
   "display_name": "Python 3 (ipykernel)",
   "language": "python",
   "name": "python3"
  },
  "language_info": {
   "codemirror_mode": {
    "name": "ipython",
    "version": 3
   },
   "file_extension": ".py",
   "mimetype": "text/x-python",
   "name": "python",
   "nbconvert_exporter": "python",
   "pygments_lexer": "ipython3",
   "version": "3.11.7"
  }
 },
 "nbformat": 4,
 "nbformat_minor": 5
}
